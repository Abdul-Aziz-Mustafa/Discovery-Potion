{
  "nbformat": 4,
  "nbformat_minor": 0,
  "metadata": {
    "colab": {
      "name": "Linear Regression",
      "provenance": []
    },
    "kernelspec": {
      "name": "python3",
      "display_name": "Python 3"
    },
    "language_info": {
      "name": "python"
    }
  },
  "cells": [
    {
      "cell_type": "markdown",
      "source": [
        "SEABORN PACKAGE\n",
        "\n",
        "Seaborn is a Python data visualization library based on matplotlib.\n",
        "It provides a high-level interface for drawing attractive and informative statistical graphics."
      ],
      "metadata": {
        "id": "IHli7d6rJzY-"
      }
    },
    {
      "cell_type": "code",
      "execution_count": null,
      "metadata": {
        "id": "w87LK3kKDgsB"
      },
      "outputs": [],
      "source": [
        "import pandas as pd\n",
        "import seaborn as sns\n",
        "import matplotlib.pyplot as plt\n",
        "import pickle as pk\n",
        "from sklearn.model_selection import train_test_split\n",
        "from sklearn.ensemble import RandomForestRegressor\n",
        "from sklearn.feature_selection import VarianceThreshold"
      ]
    },
    {
      "cell_type": "code",
      "source": [
        "! wget https://github.com/Abdul-Aziz-Mustafa/Discovery-Potion/blob/main/CSV_files/acetylcholinesterase_06_bioactivity_data_3class_pIC50_pubchem_fp.csv"
      ],
      "metadata": {
        "colab": {
          "base_uri": "https://localhost:8080/"
        },
        "id": "spj56u_vKDHq",
        "outputId": "1dc50c7d-8885-448b-bc11-3fafe3c35a79"
      },
      "execution_count": null,
      "outputs": [
        {
          "output_type": "stream",
          "name": "stdout",
          "text": [
            "--2022-05-16 21:22:46--  https://github.com/Abdul-Aziz-Mustafa/Discovery-Potion/blob/main/CSV_files/acetylcholinesterase_06_bioactivity_data_3class_pIC50_pubchem_fp.csv\n",
            "Resolving github.com (github.com)... 140.82.112.3\n",
            "Connecting to github.com (github.com)|140.82.112.3|:443... connected.\n",
            "HTTP request sent, awaiting response... 200 OK\n",
            "Length: unspecified [text/html]\n",
            "Saving to: ‘acetylcholinesterase_06_bioactivity_data_3class_pIC50_pubchem_fp.csv.1’\n",
            "\n",
            "acetylcholinesteras     [ <=>                ] 131.47K  --.-KB/s    in 0.07s   \n",
            "\n",
            "2022-05-16 21:22:47 (1.72 MB/s) - ‘acetylcholinesterase_06_bioactivity_data_3class_pIC50_pubchem_fp.csv.1’ saved [134628]\n",
            "\n"
          ]
        }
      ]
    },
    {
      "cell_type": "code",
      "source": [
        "pubchem_data = pd.read_csv('acetylcholinesterase_06_bioactivity_data_3class_pIC50_pubchem_fp.csv')\n",
        "print(\"Pubchem data:\")\n",
        "print(pubchem_data)"
      ],
      "metadata": {
        "colab": {
          "base_uri": "https://localhost:8080/"
        },
        "id": "i3UIoyDUPBFj",
        "outputId": "538d1563-ddd6-4765-c229-cf93d891deb4"
      },
      "execution_count": null,
      "outputs": [
        {
          "output_type": "stream",
          "name": "stdout",
          "text": [
            "Pubchem data:\n",
            "      PubchemFP0  PubchemFP1  PubchemFP2  PubchemFP3  PubchemFP4  PubchemFP5  \\\n",
            "0              1           1           1           0           0           0   \n",
            "1              1           1           1           0           0           0   \n",
            "2              1           1           1           0           0           0   \n",
            "3              1           1           0           0           0           0   \n",
            "4              1           1           0           0           0           0   \n",
            "...          ...         ...         ...         ...         ...         ...   \n",
            "4690           1           1           1           1           0           0   \n",
            "4691           1           1           1           1           0           0   \n",
            "4692           1           1           1           1           0           0   \n",
            "4693           1           1           1           1           0           0   \n",
            "4694           1           1           1           1           0           0   \n",
            "\n",
            "      PubchemFP6  PubchemFP7  PubchemFP8  PubchemFP9  ...  PubchemFP872  \\\n",
            "0              0           0           0           1  ...             0   \n",
            "1              0           0           0           1  ...             0   \n",
            "2              0           0           0           1  ...             0   \n",
            "3              0           0           0           1  ...             0   \n",
            "4              0           0           0           1  ...             0   \n",
            "...          ...         ...         ...         ...  ...           ...   \n",
            "4690           0           0           0           1  ...             0   \n",
            "4691           0           0           0           1  ...             0   \n",
            "4692           0           0           0           1  ...             0   \n",
            "4693           0           0           0           1  ...             0   \n",
            "4694           0           0           0           1  ...             0   \n",
            "\n",
            "      PubchemFP873  PubchemFP874  PubchemFP875  PubchemFP876  PubchemFP877  \\\n",
            "0                0             0             0             0             0   \n",
            "1                0             0             0             0             0   \n",
            "2                0             0             0             0             0   \n",
            "3                0             0             0             0             0   \n",
            "4                0             0             0             0             0   \n",
            "...            ...           ...           ...           ...           ...   \n",
            "4690             0             0             0             0             0   \n",
            "4691             0             0             0             0             0   \n",
            "4692             0             0             0             0             0   \n",
            "4693             0             0             0             0             0   \n",
            "4694             0             0             0             0             0   \n",
            "\n",
            "      PubchemFP878  PubchemFP879  PubchemFP880     pIC50  \n",
            "0                0             0             0  6.124939  \n",
            "1                0             0             0  7.000000  \n",
            "2                0             0             0  4.301030  \n",
            "3                0             0             0  6.522879  \n",
            "4                0             0             0  6.096910  \n",
            "...            ...           ...           ...       ...  \n",
            "4690             0             0             0  5.612610  \n",
            "4691             0             0             0  5.595166  \n",
            "4692             0             0             0  5.419075  \n",
            "4693             0             0             0  5.460924  \n",
            "4694             0             0             0  5.555955  \n",
            "\n",
            "[4695 rows x 882 columns]\n"
          ]
        }
      ]
    },
    {
      "cell_type": "code",
      "source": [
        "X_axis = pubchem_data.drop('pIC50', axis=1)\n",
        "print(X_axis)"
      ],
      "metadata": {
        "colab": {
          "base_uri": "https://localhost:8080/"
        },
        "id": "IQM3sncTUlGU",
        "outputId": "0bd372aa-5d6c-45f9-d98c-91fecc5de1a3"
      },
      "execution_count": null,
      "outputs": [
        {
          "output_type": "stream",
          "name": "stdout",
          "text": [
            "      PubchemFP0  PubchemFP1  PubchemFP2  PubchemFP3  PubchemFP4  PubchemFP5  \\\n",
            "0              1           1           1           0           0           0   \n",
            "1              1           1           1           0           0           0   \n",
            "2              1           1           1           0           0           0   \n",
            "3              1           1           0           0           0           0   \n",
            "4              1           1           0           0           0           0   \n",
            "...          ...         ...         ...         ...         ...         ...   \n",
            "4690           1           1           1           1           0           0   \n",
            "4691           1           1           1           1           0           0   \n",
            "4692           1           1           1           1           0           0   \n",
            "4693           1           1           1           1           0           0   \n",
            "4694           1           1           1           1           0           0   \n",
            "\n",
            "      PubchemFP6  PubchemFP7  PubchemFP8  PubchemFP9  ...  PubchemFP871  \\\n",
            "0              0           0           0           1  ...             0   \n",
            "1              0           0           0           1  ...             0   \n",
            "2              0           0           0           1  ...             0   \n",
            "3              0           0           0           1  ...             0   \n",
            "4              0           0           0           1  ...             0   \n",
            "...          ...         ...         ...         ...  ...           ...   \n",
            "4690           0           0           0           1  ...             0   \n",
            "4691           0           0           0           1  ...             0   \n",
            "4692           0           0           0           1  ...             0   \n",
            "4693           0           0           0           1  ...             0   \n",
            "4694           0           0           0           1  ...             0   \n",
            "\n",
            "      PubchemFP872  PubchemFP873  PubchemFP874  PubchemFP875  PubchemFP876  \\\n",
            "0                0             0             0             0             0   \n",
            "1                0             0             0             0             0   \n",
            "2                0             0             0             0             0   \n",
            "3                0             0             0             0             0   \n",
            "4                0             0             0             0             0   \n",
            "...            ...           ...           ...           ...           ...   \n",
            "4690             0             0             0             0             0   \n",
            "4691             0             0             0             0             0   \n",
            "4692             0             0             0             0             0   \n",
            "4693             0             0             0             0             0   \n",
            "4694             0             0             0             0             0   \n",
            "\n",
            "      PubchemFP877  PubchemFP878  PubchemFP879  PubchemFP880  \n",
            "0                0             0             0             0  \n",
            "1                0             0             0             0  \n",
            "2                0             0             0             0  \n",
            "3                0             0             0             0  \n",
            "4                0             0             0             0  \n",
            "...            ...           ...           ...           ...  \n",
            "4690             0             0             0             0  \n",
            "4691             0             0             0             0  \n",
            "4692             0             0             0             0  \n",
            "4693             0             0             0             0  \n",
            "4694             0             0             0             0  \n",
            "\n",
            "[4695 rows x 881 columns]\n"
          ]
        }
      ]
    },
    {
      "cell_type": "code",
      "source": [
        "Y_axis = pubchem_data.pIC50\n",
        "print(Y_axis)"
      ],
      "metadata": {
        "colab": {
          "base_uri": "https://localhost:8080/"
        },
        "id": "5u1P5MYOYJ-D",
        "outputId": "d8a04dfd-458e-4db5-8d54-71d745ffa91e"
      },
      "execution_count": null,
      "outputs": [
        {
          "output_type": "stream",
          "name": "stdout",
          "text": [
            "0       6.124939\n",
            "1       7.000000\n",
            "2       4.301030\n",
            "3       6.522879\n",
            "4       6.096910\n",
            "          ...   \n",
            "4690    5.612610\n",
            "4691    5.595166\n",
            "4692    5.419075\n",
            "4693    5.460924\n",
            "4694    5.555955\n",
            "Name: pIC50, Length: 4695, dtype: float64\n"
          ]
        }
      ]
    },
    {
      "cell_type": "code",
      "source": [
        "selection = VarianceThreshold(threshold=(0.16))    \n",
        "X_axis = selection.fit_transform(X_axis)\n",
        "print(\"Low varience removed X features\")\n",
        "print(X_axis)"
      ],
      "metadata": {
        "colab": {
          "base_uri": "https://localhost:8080/"
        },
        "id": "rZsx3gmnZIr-",
        "outputId": "c4fc4374-9bd8-4de8-de7f-21cb20c926df"
      },
      "execution_count": null,
      "outputs": [
        {
          "output_type": "stream",
          "name": "stdout",
          "text": [
            "Low varience removed X features\n",
            "[[0 1 1 ... 0 0 0]\n",
            " [0 1 0 ... 0 0 0]\n",
            " [0 1 1 ... 0 0 0]\n",
            " ...\n",
            " [1 1 0 ... 0 1 0]\n",
            " [1 1 0 ... 0 1 0]\n",
            " [1 1 0 ... 0 1 0]]\n"
          ]
        }
      ]
    },
    {
      "cell_type": "code",
      "source": [
        "X_train, X_test, Y_train, Y_test = train_test_split(X_axis, Y_axis, test_size=0.2)\n",
        "print(\"X trining\")\n",
        "print(X_train.shape)\n",
        "print(\"X testing\")\n",
        "print(X_test.shape)\n",
        "print(\"Y training\")\n",
        "print(Y_train.shape)\n",
        "print(\"Y testing\")\n",
        "print(Y_test.shape)"
      ],
      "metadata": {
        "colab": {
          "base_uri": "https://localhost:8080/"
        },
        "id": "CJzYIcBjb7Hx",
        "outputId": "e697cbaa-e7c6-4b34-ddef-6aaf2c00f58d"
      },
      "execution_count": null,
      "outputs": [
        {
          "output_type": "stream",
          "name": "stdout",
          "text": [
            "X trining\n",
            "(3756, 137)\n",
            "X testing\n",
            "(939, 137)\n",
            "Y training\n",
            "(3756,)\n",
            "Y testing\n",
            "(939,)\n"
          ]
        }
      ]
    },
    {
      "cell_type": "code",
      "source": [
        "reg_model = RandomForestRegressor(n_estimators=100)\n",
        "reg_model.fit(X_train, Y_train)\n",
        "R2 = reg_model.score(X_test, Y_test)\n",
        "print(\"Regression Model's R squared value:\")\n",
        "print(R2)"
      ],
      "metadata": {
        "colab": {
          "base_uri": "https://localhost:8080/"
        },
        "id": "nSk997rbcKUr",
        "outputId": "4da9c2db-387c-4286-e571-f4dbdcdd549e"
      },
      "execution_count": null,
      "outputs": [
        {
          "output_type": "stream",
          "name": "stdout",
          "text": [
            "Regression Model\n",
            "0.54109540119196\n"
          ]
        }
      ]
    },
    {
      "cell_type": "code",
      "source": [
        "Y_pred = reg_model.predict(X_test)"
      ],
      "metadata": {
        "id": "cNH5e-qtcTOu"
      },
      "execution_count": null,
      "outputs": []
    },
    {
      "cell_type": "code",
      "source": [
        "plot = sns.regplot(Y_test, Y_pred, scatter_kws={'alpha':0.4})\n",
        "plot.set_xlabel('Experimental pIC50', fontsize='large')\n",
        "plot.set_ylabel('Predicted pIC50', fontsize='large')\n",
        "plot.set_xlim(0, 15)\n",
        "plot.set_ylim(0, 15)\n",
        "plot.figure.set_size_inches(7, 7)\n",
        "plt.show"
      ],
      "metadata": {
        "colab": {
          "base_uri": "https://localhost:8080/",
          "height": 521
        },
        "id": "2tLYKpzacvNI",
        "outputId": "e71bdfac-0498-411d-c980-bc06a50e7c12"
      },
      "execution_count": null,
      "outputs": [
        {
          "output_type": "stream",
          "name": "stderr",
          "text": [
            "/usr/local/lib/python3.7/dist-packages/seaborn/_decorators.py:43: FutureWarning: Pass the following variables as keyword args: x, y. From version 0.12, the only valid positional argument will be `data`, and passing other arguments without an explicit keyword will result in an error or misinterpretation.\n",
            "  FutureWarning\n"
          ]
        },
        {
          "output_type": "execute_result",
          "data": {
            "text/plain": [
              "<function matplotlib.pyplot.show>"
            ]
          },
          "metadata": {},
          "execution_count": 34
        },
        {
          "output_type": "display_data",
          "data": {
            "text/plain": [
              "<Figure size 504x504 with 1 Axes>"
            ],
            "image/png": "[encoded data removed]"
          },
          "metadata": {}
        }
      ]
    },
    {
      "cell_type": "code",
      "source": [
        "pk.dump(reg_model,open('acetylcholinesterase_model.pkl','wb'))"
      ],
      "metadata": {
        "id": "YP8je6V_7S6k"
      },
      "execution_count": null,
      "outputs": []
    }
  ]
}