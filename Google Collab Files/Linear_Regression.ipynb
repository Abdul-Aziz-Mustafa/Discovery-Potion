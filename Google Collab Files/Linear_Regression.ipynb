{
  "nbformat": 4,
  "nbformat_minor": 0,
  "metadata": {
    "colab": {
      "name": "Linear Regression",
      "provenance": []
    },
    "kernelspec": {
      "name": "python3",
      "display_name": "Python 3"
    },
    "language_info": {
      "name": "python"
    }
  },
  "cells": [
    {
      "cell_type": "markdown",
      "source": [
        "SEABORN PACKAGE\n",
        "\n",
        "Seaborn is a Python data visualization library based on matplotlib.\n",
        "It provides a high-level interface for drawing attractive and informative statistical graphics."
      ],
      "metadata": {
        "id": "IHli7d6rJzY-"
      }
    },
    {
      "cell_type": "code",
      "execution_count": 21,
      "metadata": {
        "id": "w87LK3kKDgsB"
      },
      "outputs": [],
      "source": [
        "import pandas as pd\n",
        "import seaborn as sns\n",
        "import matplotlib.pyplot as plt\n",
        "from sklearn.model_selection import train_test_split\n",
        "from sklearn.ensemble import RandomForestRegressor\n",
        "from sklearn.feature_selection import VarianceThreshold"
      ]
    },
    {
      "cell_type": "code",
      "source": [
        "! wget https://github.com/dataprofessor/data/raw/master/acetylcholinesterase_06_bioactivity_data_3class_pIC50_pubchem_fp.csv"
      ],
      "metadata": {
        "colab": {
          "base_uri": "https://localhost:8080/"
        },
        "id": "spj56u_vKDHq",
        "outputId": "331d92e0-e4ce-4dbc-81ae-5912b73bfba1"
      },
      "execution_count": 3,
      "outputs": [
        {
          "output_type": "stream",
          "name": "stdout",
          "text": [
            "--2022-05-16 14:18:17--  https://github.com/dataprofessor/data/raw/master/acetylcholinesterase_06_bioactivity_data_3class_pIC50_pubchem_fp.csv\n",
            "Resolving github.com (github.com)... 140.82.113.3\n",
            "Connecting to github.com (github.com)|140.82.113.3|:443... connected.\n",
            "HTTP request sent, awaiting response... 302 Found\n",
            "Location: https://raw.githubusercontent.com/dataprofessor/data/master/acetylcholinesterase_06_bioactivity_data_3class_pIC50_pubchem_fp.csv [following]\n",
            "--2022-05-16 14:18:17--  https://raw.githubusercontent.com/dataprofessor/data/master/acetylcholinesterase_06_bioactivity_data_3class_pIC50_pubchem_fp.csv\n",
            "Resolving raw.githubusercontent.com (raw.githubusercontent.com)... 185.199.111.133, 185.199.108.133, 185.199.109.133, ...\n",
            "Connecting to raw.githubusercontent.com (raw.githubusercontent.com)|185.199.111.133|:443... connected.\n",
            "HTTP request sent, awaiting response... 200 OK\n",
            "Length: 8363909 (8.0M) [text/plain]\n",
            "Saving to: ‘acetylcholinesterase_06_bioactivity_data_3class_pIC50_pubchem_fp.csv’\n",
            "\n",
            "acetylcholinesteras 100%[===================>]   7.98M  --.-KB/s    in 0.08s   \n",
            "\n",
            "2022-05-16 14:18:18 (95.0 MB/s) - ‘acetylcholinesterase_06_bioactivity_data_3class_pIC50_pubchem_fp.csv’ saved [8363909/8363909]\n",
            "\n"
          ]
        }
      ]
    },
    {
      "cell_type": "code",
      "source": [
        "pubchem_data = pd.read_csv('acetylcholinesterase_06_bioactivity_data_3class_pIC50_pubchem_fp.csv')\n",
        "print(\"Pubchem data:\")\n",
        "print(pubchem_data)"
      ],
      "metadata": {
        "colab": {
          "base_uri": "https://localhost:8080/"
        },
        "id": "i3UIoyDUPBFj",
        "outputId": "953c858e-c65e-4370-d206-e685f2555d0d"
      },
      "execution_count": 7,
      "outputs": [
        {
          "output_type": "stream",
          "name": "stdout",
          "text": [
            "Pubchem data:\n",
            "      PubchemFP0  PubchemFP1  PubchemFP2  PubchemFP3  PubchemFP4  PubchemFP5  \\\n",
            "0              1           1           1           0           0           0   \n",
            "1              1           1           1           0           0           0   \n",
            "2              1           1           1           0           0           0   \n",
            "3              1           1           0           0           0           0   \n",
            "4              1           1           0           0           0           0   \n",
            "...          ...         ...         ...         ...         ...         ...   \n",
            "4690           1           1           1           1           0           0   \n",
            "4691           1           1           1           1           0           0   \n",
            "4692           1           1           1           1           0           0   \n",
            "4693           1           1           1           1           0           0   \n",
            "4694           1           1           1           1           0           0   \n",
            "\n",
            "      PubchemFP6  PubchemFP7  PubchemFP8  PubchemFP9  ...  PubchemFP872  \\\n",
            "0              0           0           0           1  ...             0   \n",
            "1              0           0           0           1  ...             0   \n",
            "2              0           0           0           1  ...             0   \n",
            "3              0           0           0           1  ...             0   \n",
            "4              0           0           0           1  ...             0   \n",
            "...          ...         ...         ...         ...  ...           ...   \n",
            "4690           0           0           0           1  ...             0   \n",
            "4691           0           0           0           1  ...             0   \n",
            "4692           0           0           0           1  ...             0   \n",
            "4693           0           0           0           1  ...             0   \n",
            "4694           0           0           0           1  ...             0   \n",
            "\n",
            "      PubchemFP873  PubchemFP874  PubchemFP875  PubchemFP876  PubchemFP877  \\\n",
            "0                0             0             0             0             0   \n",
            "1                0             0             0             0             0   \n",
            "2                0             0             0             0             0   \n",
            "3                0             0             0             0             0   \n",
            "4                0             0             0             0             0   \n",
            "...            ...           ...           ...           ...           ...   \n",
            "4690             0             0             0             0             0   \n",
            "4691             0             0             0             0             0   \n",
            "4692             0             0             0             0             0   \n",
            "4693             0             0             0             0             0   \n",
            "4694             0             0             0             0             0   \n",
            "\n",
            "      PubchemFP878  PubchemFP879  PubchemFP880     pIC50  \n",
            "0                0             0             0  6.124939  \n",
            "1                0             0             0  7.000000  \n",
            "2                0             0             0  4.301030  \n",
            "3                0             0             0  6.522879  \n",
            "4                0             0             0  6.096910  \n",
            "...            ...           ...           ...       ...  \n",
            "4690             0             0             0  5.612610  \n",
            "4691             0             0             0  5.595166  \n",
            "4692             0             0             0  5.419075  \n",
            "4693             0             0             0  5.460924  \n",
            "4694             0             0             0  5.555955  \n",
            "\n",
            "[4695 rows x 882 columns]\n"
          ]
        }
      ]
    },
    {
      "cell_type": "code",
      "source": [
        "X_axis = pubchem_data.drop('pIC50', axis=1)\n",
        "print(X_axis)"
      ],
      "metadata": {
        "colab": {
          "base_uri": "https://localhost:8080/"
        },
        "id": "IQM3sncTUlGU",
        "outputId": "d16e0221-aceb-4753-a200-55b3e7ecdb37"
      },
      "execution_count": 8,
      "outputs": [
        {
          "output_type": "stream",
          "name": "stdout",
          "text": [
            "      PubchemFP0  PubchemFP1  PubchemFP2  PubchemFP3  PubchemFP4  PubchemFP5  \\\n",
            "0              1           1           1           0           0           0   \n",
            "1              1           1           1           0           0           0   \n",
            "2              1           1           1           0           0           0   \n",
            "3              1           1           0           0           0           0   \n",
            "4              1           1           0           0           0           0   \n",
            "...          ...         ...         ...         ...         ...         ...   \n",
            "4690           1           1           1           1           0           0   \n",
            "4691           1           1           1           1           0           0   \n",
            "4692           1           1           1           1           0           0   \n",
            "4693           1           1           1           1           0           0   \n",
            "4694           1           1           1           1           0           0   \n",
            "\n",
            "      PubchemFP6  PubchemFP7  PubchemFP8  PubchemFP9  ...  PubchemFP871  \\\n",
            "0              0           0           0           1  ...             0   \n",
            "1              0           0           0           1  ...             0   \n",
            "2              0           0           0           1  ...             0   \n",
            "3              0           0           0           1  ...             0   \n",
            "4              0           0           0           1  ...             0   \n",
            "...          ...         ...         ...         ...  ...           ...   \n",
            "4690           0           0           0           1  ...             0   \n",
            "4691           0           0           0           1  ...             0   \n",
            "4692           0           0           0           1  ...             0   \n",
            "4693           0           0           0           1  ...             0   \n",
            "4694           0           0           0           1  ...             0   \n",
            "\n",
            "      PubchemFP872  PubchemFP873  PubchemFP874  PubchemFP875  PubchemFP876  \\\n",
            "0                0             0             0             0             0   \n",
            "1                0             0             0             0             0   \n",
            "2                0             0             0             0             0   \n",
            "3                0             0             0             0             0   \n",
            "4                0             0             0             0             0   \n",
            "...            ...           ...           ...           ...           ...   \n",
            "4690             0             0             0             0             0   \n",
            "4691             0             0             0             0             0   \n",
            "4692             0             0             0             0             0   \n",
            "4693             0             0             0             0             0   \n",
            "4694             0             0             0             0             0   \n",
            "\n",
            "      PubchemFP877  PubchemFP878  PubchemFP879  PubchemFP880  \n",
            "0                0             0             0             0  \n",
            "1                0             0             0             0  \n",
            "2                0             0             0             0  \n",
            "3                0             0             0             0  \n",
            "4                0             0             0             0  \n",
            "...            ...           ...           ...           ...  \n",
            "4690             0             0             0             0  \n",
            "4691             0             0             0             0  \n",
            "4692             0             0             0             0  \n",
            "4693             0             0             0             0  \n",
            "4694             0             0             0             0  \n",
            "\n",
            "[4695 rows x 881 columns]\n"
          ]
        }
      ]
    },
    {
      "cell_type": "code",
      "source": [
        "Y_axis = pubchem_data.pIC50\n",
        "print(Y_axis)"
      ],
      "metadata": {
        "colab": {
          "base_uri": "https://localhost:8080/"
        },
        "id": "5u1P5MYOYJ-D",
        "outputId": "d8a04dfd-458e-4db5-8d54-71d745ffa91e"
      },
      "execution_count": 9,
      "outputs": [
        {
          "output_type": "stream",
          "name": "stdout",
          "text": [
            "0       6.124939\n",
            "1       7.000000\n",
            "2       4.301030\n",
            "3       6.522879\n",
            "4       6.096910\n",
            "          ...   \n",
            "4690    5.612610\n",
            "4691    5.595166\n",
            "4692    5.419075\n",
            "4693    5.460924\n",
            "4694    5.555955\n",
            "Name: pIC50, Length: 4695, dtype: float64\n"
          ]
        }
      ]
    },
    {
      "cell_type": "code",
      "source": [
        "selection = VarianceThreshold(threshold=(.8 * (1 - .8)))    \n",
        "X_axis = selection.fit_transform(X_axis)\n",
        "print(\"Low varience removed X features\")\n",
        "print(X_axis)"
      ],
      "metadata": {
        "colab": {
          "base_uri": "https://localhost:8080/"
        },
        "id": "rZsx3gmnZIr-",
        "outputId": "709e8205-85fa-483c-f1bd-b86fa2284e60"
      },
      "execution_count": 12,
      "outputs": [
        {
          "output_type": "stream",
          "name": "stdout",
          "text": [
            "Low varience removed X features\n",
            "[[0 1 1 ... 0 0 0]\n",
            " [0 1 0 ... 0 0 0]\n",
            " [0 1 1 ... 0 0 0]\n",
            " ...\n",
            " [1 1 0 ... 0 1 0]\n",
            " [1 1 0 ... 0 1 0]\n",
            " [1 1 0 ... 0 1 0]]\n"
          ]
        }
      ]
    },
    {
      "cell_type": "code",
      "source": [
        "X_train, X_test, Y_train, Y_test = train_test_split(X_axis, Y_axis, test_size=0.2)"
      ],
      "metadata": {
        "id": "CJzYIcBjb7Hx"
      },
      "execution_count": 14,
      "outputs": []
    },
    {
      "cell_type": "code",
      "source": [
        "model = RandomForestRegressor(n_estimators=100)\n",
        "model.fit(X_train, Y_train)\n",
        "r2 = model.score(X_test, Y_test)\n",
        "r2"
      ],
      "metadata": {
        "colab": {
          "base_uri": "https://localhost:8080/"
        },
        "id": "nSk997rbcKUr",
        "outputId": "cf00f170-5ca2-45fe-82ce-d4e3f66dee40"
      },
      "execution_count": 15,
      "outputs": [
        {
          "output_type": "execute_result",
          "data": {
            "text/plain": [
              "0.5403863922059543"
            ]
          },
          "metadata": {},
          "execution_count": 15
        }
      ]
    },
    {
      "cell_type": "code",
      "source": [
        "Y_pred = model.predict(X_test)"
      ],
      "metadata": {
        "id": "cNH5e-qtcTOu"
      },
      "execution_count": 16,
      "outputs": []
    },
    {
      "cell_type": "code",
      "source": [
        "sns.set(color_codes=True)\n",
        "sns.set_style(\"white\")\n",
        "\n",
        "ax = sns.regplot(Y_test, Y_pred, scatter_kws={'alpha':0.4})\n",
        "ax.set_xlabel('Experimental pIC50', fontsize='large', fontweight='bold')\n",
        "ax.set_ylabel('Predicted pIC50', fontsize='large', fontweight='bold')\n",
        "ax.set_xlim(0, 12)\n",
        "ax.set_ylim(0, 12)\n",
        "ax.figure.set_size_inches(5, 5)\n",
        "plt.show"
      ],
      "metadata": {
        "colab": {
          "base_uri": "https://localhost:8080/",
          "height": 416
        },
        "id": "2tLYKpzacvNI",
        "outputId": "4f8d66e0-b434-43fc-f9e4-c1049deb8102"
      },
      "execution_count": 22,
      "outputs": [
        {
          "output_type": "stream",
          "name": "stderr",
          "text": [
            "/usr/local/lib/python3.7/dist-packages/seaborn/_decorators.py:43: FutureWarning: Pass the following variables as keyword args: x, y. From version 0.12, the only valid positional argument will be `data`, and passing other arguments without an explicit keyword will result in an error or misinterpretation.\n",
            "  FutureWarning\n"
          ]
        },
        {
          "output_type": "execute_result",
          "data": {
            "text/plain": [
              "<function matplotlib.pyplot.show>"
            ]
          },
          "metadata": {},
          "execution_count": 22
        },
        {
          "output_type": "display_data",
          "data": {
            "text/plain": [
              "<Figure size 360x360 with 1 Axes>"
            ],
            "image/png": "[encoded data removed]"
          },
          "metadata": {}
        }
      ]
    }
  ]
}